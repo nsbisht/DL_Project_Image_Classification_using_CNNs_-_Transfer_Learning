{
  "nbformat": 4,
  "nbformat_minor": 0,
  "metadata": {
    "colab": {
      "name": "D.ipynb",
      "provenance": [],
      "collapsed_sections": [],
      "machine_shape": "hm"
    },
    "kernelspec": {
      "display_name": "Python 3",
      "language": "python",
      "name": "python3"
    },
    "language_info": {
      "codemirror_mode": {
        "name": "ipython",
        "version": 3
      },
      "file_extension": ".py",
      "mimetype": "text/x-python",
      "name": "python",
      "nbconvert_exporter": "python",
      "pygments_lexer": "ipython3",
      "version": "3.7.6"
    },
    "accelerator": "GPU"
  },
  "cells": [
    {
      "cell_type": "code",
      "metadata": {
        "id": "SD413G0tHILi"
      },
      "source": [
        "import numpy as np\n",
        "import pandas as pd\n",
        "import matplotlib.pyplot as plt\n",
        "import zipfile\n",
        "import os\n",
        "import cv2\n",
        "import tensorflow as tf\n",
        "import gdown\n",
        "\n",
        "from sklearn.model_selection import train_test_split\n",
        "from tensorflow.keras.preprocessing.image import ImageDataGenerator\n",
        "\n",
        "import matplotlib.pyplot as plt\n",
        "import seaborn as sns\n",
        "\n",
        "from tensorflow.keras.models import Model, Sequential\n",
        "from tensorflow.keras.layers import Conv2D, MaxPooling2D, Dropout, BatchNormalization, Input, Flatten, Dense, Reshape\n",
        "from sklearn.preprocessing import LabelEncoder"
      ],
      "execution_count": 1,
      "outputs": []
    },
    {
      "cell_type": "code",
      "metadata": {
        "colab": {
          "base_uri": "https://localhost:8080/",
          "height": 36
        },
        "id": "MwdtbqsXFx_e",
        "outputId": "3c544573-f002-40cb-f734-e718f2239bab"
      },
      "source": [
        "url = 'https://drive.google.com/uc?id=1T-AQHx84kHVIVcH3wEcOmTEac7njLLlS'\n",
        "output = 'train.zip'\n",
        "gdown.download(url, output, quiet=True)\n",
        "\n",
        "# https://drive.google.com/file/d/1T-AQHx84kHVIVcH3wEcOmTEac7njLLlS/view?usp=sharing"
      ],
      "execution_count": 2,
      "outputs": [
        {
          "output_type": "execute_result",
          "data": {
            "application/vnd.google.colaboratory.intrinsic+json": {
              "type": "string"
            },
            "text/plain": [
              "'train.zip'"
            ]
          },
          "metadata": {
            "tags": []
          },
          "execution_count": 2
        }
      ]
    },
    {
      "cell_type": "code",
      "metadata": {
        "colab": {
          "base_uri": "https://localhost:8080/",
          "height": 36
        },
        "id": "bGDHXZVHGnQ9",
        "outputId": "5107ae96-a0bc-4381-9376-9bd5c7f363a0"
      },
      "source": [
        "url = 'https://drive.google.com/uc?id=15eg8RcRCbH8VnokjLU-UWEXwz8hREqGU'\n",
        "output = 'test.zip'\n",
        "gdown.download(url, output, quiet=True)\n",
        "\n",
        "# https://drive.google.com/file/d/15eg8RcRCbH8VnokjLU-UWEXwz8hREqGU/view?usp=sharing"
      ],
      "execution_count": 3,
      "outputs": [
        {
          "output_type": "execute_result",
          "data": {
            "application/vnd.google.colaboratory.intrinsic+json": {
              "type": "string"
            },
            "text/plain": [
              "'test.zip'"
            ]
          },
          "metadata": {
            "tags": []
          },
          "execution_count": 3
        }
      ]
    },
    {
      "cell_type": "code",
      "metadata": {
        "id": "WeNYzQ_1D5n3"
      },
      "source": [
        "DATA_DIR = '/content/'"
      ],
      "execution_count": 4,
      "outputs": []
    },
    {
      "cell_type": "code",
      "metadata": {
        "id": "CHVHyGN2HOfO"
      },
      "source": [
        "train_zip = DATA_DIR + 'train.zip'\n",
        "zip_ref = zipfile.ZipFile(train_zip, 'r')\n",
        "zip_ref.extractall()\n",
        "zip_ref.close()\n",
        "\n",
        "test_zip = DATA_DIR + 'test.zip'\n",
        "zip_ref = zipfile.ZipFile(test_zip, 'r')\n",
        "zip_ref.extractall()\n",
        "zip_ref.close()"
      ],
      "execution_count": 5,
      "outputs": []
    },
    {
      "cell_type": "code",
      "metadata": {
        "id": "DgsAoyQOrAta",
        "colab": {
          "base_uri": "https://localhost:8080/"
        },
        "outputId": "acbebe7a-6269-458b-9125-29bc8bb44cd2"
      },
      "source": [
        "print('Total training images:', len(os.listdir(DATA_DIR + 'Train')))\n",
        "print('Total testing images:', len(os.listdir(DATA_DIR + 'Test')))"
      ],
      "execution_count": 6,
      "outputs": [
        {
          "output_type": "stream",
          "text": [
            "Total training images: 19906\n",
            "Total testing images: 6636\n"
          ],
          "name": "stdout"
        }
      ]
    },
    {
      "cell_type": "code",
      "metadata": {
        "id": "IbeIX9IZfTlQ"
      },
      "source": [
        "train_df = pd.read_csv(DATA_DIR + 'train.csv')\n",
        "test_df = pd.read_csv(DATA_DIR + 'test.csv')"
      ],
      "execution_count": 7,
      "outputs": []
    },
    {
      "cell_type": "code",
      "metadata": {
        "id": "eELNmH_hIXOV",
        "colab": {
          "base_uri": "https://localhost:8080/",
          "height": 80
        },
        "outputId": "ad576191-c0e1-4d5a-b080-ec4891e65796"
      },
      "source": [
        "train_df.head(1)"
      ],
      "execution_count": 8,
      "outputs": [
        {
          "output_type": "execute_result",
          "data": {
            "text/html": [
              "<div>\n",
              "<style scoped>\n",
              "    .dataframe tbody tr th:only-of-type {\n",
              "        vertical-align: middle;\n",
              "    }\n",
              "\n",
              "    .dataframe tbody tr th {\n",
              "        vertical-align: top;\n",
              "    }\n",
              "\n",
              "    .dataframe thead th {\n",
              "        text-align: right;\n",
              "    }\n",
              "</style>\n",
              "<table border=\"1\" class=\"dataframe\">\n",
              "  <thead>\n",
              "    <tr style=\"text-align: right;\">\n",
              "      <th></th>\n",
              "      <th>ID</th>\n",
              "      <th>Class</th>\n",
              "    </tr>\n",
              "  </thead>\n",
              "  <tbody>\n",
              "    <tr>\n",
              "      <th>0</th>\n",
              "      <td>377.jpg</td>\n",
              "      <td>MIDDLE</td>\n",
              "    </tr>\n",
              "  </tbody>\n",
              "</table>\n",
              "</div>"
            ],
            "text/plain": [
              "        ID   Class\n",
              "0  377.jpg  MIDDLE"
            ]
          },
          "metadata": {
            "tags": []
          },
          "execution_count": 8
        }
      ]
    },
    {
      "cell_type": "code",
      "metadata": {
        "id": "IeZc-So1IaJP",
        "colab": {
          "base_uri": "https://localhost:8080/",
          "height": 80
        },
        "outputId": "979e5d7b-dacd-40c5-d4f3-c0c0f376cf28"
      },
      "source": [
        "test_df.head(1)"
      ],
      "execution_count": 9,
      "outputs": [
        {
          "output_type": "execute_result",
          "data": {
            "text/html": [
              "<div>\n",
              "<style scoped>\n",
              "    .dataframe tbody tr th:only-of-type {\n",
              "        vertical-align: middle;\n",
              "    }\n",
              "\n",
              "    .dataframe tbody tr th {\n",
              "        vertical-align: top;\n",
              "    }\n",
              "\n",
              "    .dataframe thead th {\n",
              "        text-align: right;\n",
              "    }\n",
              "</style>\n",
              "<table border=\"1\" class=\"dataframe\">\n",
              "  <thead>\n",
              "    <tr style=\"text-align: right;\">\n",
              "      <th></th>\n",
              "      <th>ID</th>\n",
              "    </tr>\n",
              "  </thead>\n",
              "  <tbody>\n",
              "    <tr>\n",
              "      <th>0</th>\n",
              "      <td>25321.jpg</td>\n",
              "    </tr>\n",
              "  </tbody>\n",
              "</table>\n",
              "</div>"
            ],
            "text/plain": [
              "          ID\n",
              "0  25321.jpg"
            ]
          },
          "metadata": {
            "tags": []
          },
          "execution_count": 9
        }
      ]
    },
    {
      "cell_type": "code",
      "metadata": {
        "id": "K5gVMzCed-nk"
      },
      "source": [
        "train_images = []\n",
        "for img_name in train_df.ID:\n",
        "    img_path = DATA_DIR + 'Train/' + img_name\n",
        "    img = cv2.imread(img_path)\n",
        "    img = cv2.resize(img, (64, 64)).astype('float32')\n",
        "    train_images.append(img)\n",
        "\n",
        "train_x = np.stack(train_images)\n",
        "train_x = train_x / 255."
      ],
      "execution_count": 10,
      "outputs": []
    },
    {
      "cell_type": "code",
      "metadata": {
        "id": "xWD2rQhYlzxs"
      },
      "source": [
        "test_images = []\n",
        "for img_name in test_df.ID:\n",
        "    img_path = DATA_DIR + 'Test/' + img_name\n",
        "    img = cv2.imread(img_path)\n",
        "    img = cv2.resize(img, (64, 64)).astype('float32')\n",
        "    test_images.append(img)\n",
        "\n",
        "test_x = np.stack(test_images)\n",
        "test_x = test_x / 255."
      ],
      "execution_count": 11,
      "outputs": []
    },
    {
      "cell_type": "code",
      "metadata": {
        "id": "XPnAo8ZGf4Xu"
      },
      "source": [
        "lb = LabelEncoder()\n",
        "train_y = lb.fit_transform(train_df.Class) # Class Names - > Class Numbers\n",
        "train_y = tf.keras.utils.to_categorical(train_y) # Class Numbers -> OHE Vectors"
      ],
      "execution_count": 12,
      "outputs": []
    },
    {
      "cell_type": "code",
      "metadata": {
        "id": "0yg2qp1TuIHC"
      },
      "source": [
        "from tensorflow.keras.applications.vgg19 import VGG19\n",
        "\n",
        "base_model = VGG19(\n",
        "    input_shape = (64, 64, 3),\n",
        "    include_top = False,\n",
        "    weights = 'imagenet'\n",
        "    )"
      ],
      "execution_count": 31,
      "outputs": []
    },
    {
      "cell_type": "code",
      "metadata": {
        "id": "ds1NfCIR6YQO"
      },
      "source": [
        "# for layer in base_model.layers:\n",
        "#     layer.trainable = False"
      ],
      "execution_count": 32,
      "outputs": []
    },
    {
      "cell_type": "code",
      "metadata": {
        "id": "tXQLwyKzxei9"
      },
      "source": [
        "model= Sequential()\n",
        "model.add(base_model) \n",
        "model.add(Flatten()) \n",
        "model.add(Dense(512, activation = ('relu')))\n",
        "model.add(Dense(256, activation = ('relu')))\n",
        "model.add(Dense(128, activation = ('relu')))\n",
        "model.add(Dropout(.2))\n",
        "model.add(Dense(3, activation = ('softmax')))"
      ],
      "execution_count": 33,
      "outputs": []
    },
    {
      "cell_type": "code",
      "metadata": {
        "id": "RZSgp9cm52Uq"
      },
      "source": [
        "model.compile(loss = 'categorical_crossentropy', optimizer = 'sgd', metrics = ['accuracy'])"
      ],
      "execution_count": 34,
      "outputs": []
    },
    {
      "cell_type": "code",
      "metadata": {
        "id": "7_PRXfN38ces",
        "colab": {
          "base_uri": "https://localhost:8080/"
        },
        "outputId": "56e4ccf6-ad36-49b5-dd8a-dcb91a5e1999"
      },
      "source": [
        "model.summary()"
      ],
      "execution_count": 35,
      "outputs": [
        {
          "output_type": "stream",
          "text": [
            "Model: \"sequential_1\"\n",
            "_________________________________________________________________\n",
            "Layer (type)                 Output Shape              Param #   \n",
            "=================================================================\n",
            "vgg19 (Functional)           (None, 2, 2, 512)         20024384  \n",
            "_________________________________________________________________\n",
            "flatten_1 (Flatten)          (None, 2048)              0         \n",
            "_________________________________________________________________\n",
            "dense_4 (Dense)              (None, 512)               1049088   \n",
            "_________________________________________________________________\n",
            "dense_5 (Dense)              (None, 256)               131328    \n",
            "_________________________________________________________________\n",
            "dense_6 (Dense)              (None, 128)               32896     \n",
            "_________________________________________________________________\n",
            "dropout_1 (Dropout)          (None, 128)               0         \n",
            "_________________________________________________________________\n",
            "dense_7 (Dense)              (None, 3)                 387       \n",
            "=================================================================\n",
            "Total params: 21,238,083\n",
            "Trainable params: 21,238,083\n",
            "Non-trainable params: 0\n",
            "_________________________________________________________________\n"
          ],
          "name": "stdout"
        }
      ]
    },
    {
      "cell_type": "code",
      "metadata": {
        "id": "w97FNBbj54I9",
        "colab": {
          "base_uri": "https://localhost:8080/"
        },
        "outputId": "06c63e5d-2a05-4057-97a3-ea861a7e1abb"
      },
      "source": [
        "model.fit(train_x,\n",
        "          train_y,\n",
        "          epochs = 50, \n",
        "          verbose = 1,\n",
        "          validation_split = 0.2\n",
        "          )"
      ],
      "execution_count": 36,
      "outputs": [
        {
          "output_type": "stream",
          "text": [
            "Epoch 1/50\n",
            "498/498 [==============================] - 19s 36ms/step - loss: 0.8757 - accuracy: 0.5981 - val_loss: 0.6908 - val_accuracy: 0.7268\n",
            "Epoch 2/50\n",
            "498/498 [==============================] - 18s 35ms/step - loss: 0.6554 - accuracy: 0.7254 - val_loss: 0.5680 - val_accuracy: 0.7677\n",
            "Epoch 3/50\n",
            "498/498 [==============================] - 18s 35ms/step - loss: 0.5420 - accuracy: 0.7803 - val_loss: 0.4858 - val_accuracy: 0.7983\n",
            "Epoch 4/50\n",
            "498/498 [==============================] - 18s 35ms/step - loss: 0.4728 - accuracy: 0.8094 - val_loss: 0.4383 - val_accuracy: 0.8252\n",
            "Epoch 5/50\n",
            "498/498 [==============================] - 18s 35ms/step - loss: 0.3937 - accuracy: 0.8399 - val_loss: 0.4283 - val_accuracy: 0.8290\n",
            "Epoch 6/50\n",
            "498/498 [==============================] - 18s 35ms/step - loss: 0.3132 - accuracy: 0.8778 - val_loss: 0.3919 - val_accuracy: 0.8481\n",
            "Epoch 7/50\n",
            "498/498 [==============================] - 18s 35ms/step - loss: 0.2722 - accuracy: 0.8950 - val_loss: 0.4361 - val_accuracy: 0.8473\n",
            "Epoch 8/50\n",
            "498/498 [==============================] - 18s 35ms/step - loss: 0.2091 - accuracy: 0.9232 - val_loss: 0.5689 - val_accuracy: 0.8154\n",
            "Epoch 9/50\n",
            "498/498 [==============================] - 18s 35ms/step - loss: 0.1570 - accuracy: 0.9428 - val_loss: 0.3952 - val_accuracy: 0.8616\n",
            "Epoch 10/50\n",
            "498/498 [==============================] - 18s 35ms/step - loss: 0.1073 - accuracy: 0.9633 - val_loss: 0.5129 - val_accuracy: 0.8503\n",
            "Epoch 11/50\n",
            "498/498 [==============================] - 18s 35ms/step - loss: 0.0981 - accuracy: 0.9662 - val_loss: 0.4313 - val_accuracy: 0.8586\n",
            "Epoch 12/50\n",
            "498/498 [==============================] - 18s 35ms/step - loss: 0.0773 - accuracy: 0.9752 - val_loss: 0.4590 - val_accuracy: 0.8677\n",
            "Epoch 13/50\n",
            "498/498 [==============================] - 18s 35ms/step - loss: 0.0564 - accuracy: 0.9792 - val_loss: 0.6113 - val_accuracy: 0.8348\n",
            "Epoch 14/50\n",
            "498/498 [==============================] - 18s 35ms/step - loss: 0.0540 - accuracy: 0.9837 - val_loss: 0.6119 - val_accuracy: 0.8636\n",
            "Epoch 15/50\n",
            "498/498 [==============================] - 18s 35ms/step - loss: 0.0503 - accuracy: 0.9848 - val_loss: 0.5847 - val_accuracy: 0.8503\n",
            "Epoch 16/50\n",
            "498/498 [==============================] - 18s 35ms/step - loss: 0.0374 - accuracy: 0.9887 - val_loss: 0.6616 - val_accuracy: 0.8651\n",
            "Epoch 17/50\n",
            "498/498 [==============================] - 18s 36ms/step - loss: 0.0327 - accuracy: 0.9895 - val_loss: 0.5548 - val_accuracy: 0.8601\n",
            "Epoch 18/50\n",
            "498/498 [==============================] - 18s 35ms/step - loss: 0.0265 - accuracy: 0.9922 - val_loss: 0.5516 - val_accuracy: 0.8719\n",
            "Epoch 19/50\n",
            "498/498 [==============================] - 18s 35ms/step - loss: 0.0321 - accuracy: 0.9917 - val_loss: 0.5726 - val_accuracy: 0.8744\n",
            "Epoch 20/50\n",
            "498/498 [==============================] - 18s 35ms/step - loss: 0.0339 - accuracy: 0.9898 - val_loss: 0.5659 - val_accuracy: 0.8672\n",
            "Epoch 21/50\n",
            "498/498 [==============================] - 18s 35ms/step - loss: 0.0210 - accuracy: 0.9935 - val_loss: 0.5564 - val_accuracy: 0.8732\n",
            "Epoch 22/50\n",
            "498/498 [==============================] - 18s 35ms/step - loss: 0.0180 - accuracy: 0.9944 - val_loss: 0.5518 - val_accuracy: 0.8797\n",
            "Epoch 23/50\n",
            "498/498 [==============================] - 18s 35ms/step - loss: 0.0356 - accuracy: 0.9881 - val_loss: 0.6122 - val_accuracy: 0.8661\n",
            "Epoch 24/50\n",
            "498/498 [==============================] - 18s 35ms/step - loss: 0.0139 - accuracy: 0.9964 - val_loss: 0.6216 - val_accuracy: 0.8669\n",
            "Epoch 25/50\n",
            "498/498 [==============================] - 18s 35ms/step - loss: 0.0141 - accuracy: 0.9946 - val_loss: 0.5638 - val_accuracy: 0.8780\n",
            "Epoch 26/50\n",
            "498/498 [==============================] - 18s 35ms/step - loss: 0.0128 - accuracy: 0.9960 - val_loss: 0.5813 - val_accuracy: 0.8759\n",
            "Epoch 27/50\n",
            "498/498 [==============================] - 18s 35ms/step - loss: 0.0167 - accuracy: 0.9948 - val_loss: 0.4882 - val_accuracy: 0.8890\n",
            "Epoch 28/50\n",
            "498/498 [==============================] - 18s 35ms/step - loss: 0.0088 - accuracy: 0.9974 - val_loss: 0.5930 - val_accuracy: 0.8855\n",
            "Epoch 29/50\n",
            "498/498 [==============================] - 18s 35ms/step - loss: 8.1532e-04 - accuracy: 0.9999 - val_loss: 0.6307 - val_accuracy: 0.8875\n",
            "Epoch 30/50\n",
            "498/498 [==============================] - 18s 35ms/step - loss: 6.0778e-04 - accuracy: 0.9999 - val_loss: 0.6390 - val_accuracy: 0.8895\n",
            "Epoch 31/50\n",
            "498/498 [==============================] - 18s 35ms/step - loss: 3.1675e-04 - accuracy: 1.0000 - val_loss: 0.6641 - val_accuracy: 0.8893\n",
            "Epoch 32/50\n",
            "498/498 [==============================] - 18s 35ms/step - loss: 5.8196e-04 - accuracy: 0.9998 - val_loss: 0.6678 - val_accuracy: 0.8895\n",
            "Epoch 33/50\n",
            "498/498 [==============================] - 18s 35ms/step - loss: 2.8074e-04 - accuracy: 1.0000 - val_loss: 0.6881 - val_accuracy: 0.8893\n",
            "Epoch 34/50\n",
            "498/498 [==============================] - 18s 35ms/step - loss: 3.2659e-04 - accuracy: 0.9999 - val_loss: 0.6827 - val_accuracy: 0.8890\n",
            "Epoch 35/50\n",
            "498/498 [==============================] - 18s 35ms/step - loss: 5.8793e-04 - accuracy: 0.9996 - val_loss: 0.6970 - val_accuracy: 0.8895\n",
            "Epoch 36/50\n",
            "498/498 [==============================] - 18s 35ms/step - loss: 2.6738e-04 - accuracy: 0.9999 - val_loss: 0.7073 - val_accuracy: 0.8900\n",
            "Epoch 37/50\n",
            "498/498 [==============================] - 18s 35ms/step - loss: 7.0467e-04 - accuracy: 0.9995 - val_loss: 0.7139 - val_accuracy: 0.8898\n",
            "Epoch 38/50\n",
            "498/498 [==============================] - 18s 35ms/step - loss: 2.9689e-04 - accuracy: 0.9999 - val_loss: 0.7158 - val_accuracy: 0.8900\n",
            "Epoch 39/50\n",
            "498/498 [==============================] - 18s 35ms/step - loss: 2.8222e-04 - accuracy: 0.9999 - val_loss: 0.7231 - val_accuracy: 0.8905\n",
            "Epoch 40/50\n",
            "498/498 [==============================] - 18s 35ms/step - loss: 5.3682e-04 - accuracy: 0.9998 - val_loss: 0.7298 - val_accuracy: 0.8908\n",
            "Epoch 41/50\n",
            "498/498 [==============================] - 18s 35ms/step - loss: 3.0986e-04 - accuracy: 0.9999 - val_loss: 0.7416 - val_accuracy: 0.8905\n",
            "Epoch 42/50\n",
            "498/498 [==============================] - 18s 35ms/step - loss: 1.4573e-04 - accuracy: 1.0000 - val_loss: 0.7461 - val_accuracy: 0.8908\n",
            "Epoch 43/50\n",
            "498/498 [==============================] - 18s 35ms/step - loss: 1.9440e-04 - accuracy: 1.0000 - val_loss: 0.7491 - val_accuracy: 0.8910\n",
            "Epoch 44/50\n",
            "498/498 [==============================] - 18s 35ms/step - loss: 4.0894e-04 - accuracy: 0.9997 - val_loss: 0.7549 - val_accuracy: 0.8908\n",
            "Epoch 45/50\n",
            "498/498 [==============================] - 18s 35ms/step - loss: 1.0891e-04 - accuracy: 1.0000 - val_loss: 0.7608 - val_accuracy: 0.8910\n",
            "Epoch 46/50\n",
            "498/498 [==============================] - 18s 35ms/step - loss: 2.5693e-04 - accuracy: 0.9999 - val_loss: 0.7660 - val_accuracy: 0.8910\n",
            "Epoch 47/50\n",
            "498/498 [==============================] - 18s 35ms/step - loss: 3.5910e-04 - accuracy: 0.9996 - val_loss: 0.7677 - val_accuracy: 0.8913\n",
            "Epoch 48/50\n",
            "498/498 [==============================] - 18s 35ms/step - loss: 1.6146e-04 - accuracy: 1.0000 - val_loss: 0.7704 - val_accuracy: 0.8910\n",
            "Epoch 49/50\n",
            "498/498 [==============================] - 18s 35ms/step - loss: 3.4605e-04 - accuracy: 0.9998 - val_loss: 0.7758 - val_accuracy: 0.8910\n",
            "Epoch 50/50\n",
            "498/498 [==============================] - 18s 35ms/step - loss: 3.7235e-04 - accuracy: 0.9997 - val_loss: 0.7798 - val_accuracy: 0.8910\n"
          ],
          "name": "stdout"
        },
        {
          "output_type": "execute_result",
          "data": {
            "text/plain": [
              "<tensorflow.python.keras.callbacks.History at 0x7fa137e62ed0>"
            ]
          },
          "metadata": {
            "tags": []
          },
          "execution_count": 36
        }
      ]
    },
    {
      "cell_type": "code",
      "metadata": {
        "id": "r9oinlAYx8Zi"
      },
      "source": [
        "def generate_prediction(model, test_x):\n",
        "  pred = model.predict(test_x)\n",
        "  pred = np.argmax(pred, axis = -1) # Returns the indices of the maximum values along an axis.\n",
        "  pred = lb.inverse_transform(pred)\n",
        "  return pred"
      ],
      "execution_count": 37,
      "outputs": []
    },
    {
      "cell_type": "code",
      "metadata": {
        "id": "RR2zdqcy0lCm"
      },
      "source": [
        "test_df['Class'] = generate_prediction(model, test_x)\n",
        "test_df.to_csv('prediction.csv', index = False)"
      ],
      "execution_count": 38,
      "outputs": []
    },
    {
      "cell_type": "code",
      "metadata": {
        "id": "GRXQarY-rWwE"
      },
      "source": [
        ""
      ],
      "execution_count": null,
      "outputs": []
    }
  ]
}